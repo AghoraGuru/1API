
from openvino.runtime import Core
import numpy as np
import cv2
import torch
core = Core()

ir_model = core.read_model(model='/home/kalyan/gitrepo/NeedToStartARepo/oneapi/kalyan.xml', weights='/home/kalyan/gitrepo/NeedToStartARepo/oneapi/kalyan.bin')
compiled_model = core.compile_model(model=ir_model, device_name="CPU")

input_layer = compiled_model.input(0)
output_layer = compiled_model.output(0)

print(f"Input layer shape: {input_layer.shape}")
print(f"Output layer shape: {output_layer.shape}")

# load download.png
# do random crop of 224x224

path = '/home/kalyan/SyncThing/Internal Storage OP5T/Whatsapp/Media/WhatsApp Images/IMG-20210801-WA0024.jpg'
img = cv2.imread(path)

frame = cv2.cvtColor(img, cv2.COLOR_BGR2RGB)
frame = cv2.resize(frame, (224, 224))
frame_org = frame
rgb_range = 255
frame = frame / rgb_range
frame = torch.from_numpy(frame).float().permute(2, 0, 1).unsqueeze(0)

output = compiled_model(frame)[output_layer]

out = output
out = np.clip(out, 0, 1)

out = np.transpose(out[0], (1, 2, 0))
#reshaping out to (1970, 1080, 3)
height , width , layers = img.shape
size = (width,height)
#out to (1970, 1080, 3)
out = cv2.resize(img, size)
out = cv2.cvtColor(out, cv2.COLOR_BGR2RGB)
out = output
out = np.clip(out, 0, 1)

out = np.transpose(out[0], (1, 2, 0))
#reshaping out to (1970, 1080, 3)
height , width , layers = img.shape
size = (width,height)
#out to (1970, 1080, 3)
out = cv2.resize(img, size)
out = cv2.cvtColor(out, cv2.COLOR_BGR2RGB)
